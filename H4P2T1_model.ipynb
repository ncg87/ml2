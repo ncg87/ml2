{
 "cells": [
  {
   "cell_type": "code",
   "execution_count": 1,
   "metadata": {},
   "outputs": [],
   "source": [
    "import os\n",
    "import numpy as np\n",
    "import matplotlib.pyplot as plt\n",
    "import torch\n",
    "import torch.nn as nn\n",
    "import torch.nn.functional as nnF\n",
    "from torch.utils.data import DataLoader as torch_dataloader\n",
    "from torch.utils.data import Dataset as torch_dataset\n",
    "import torch.optim as optim"
   ]
  },
  {
   "cell_type": "code",
   "execution_count": 2,
   "metadata": {},
   "outputs": [],
   "source": [
    "class MLP(nn.Module):\n",
    "    def __init__(self, input_size=187, output_size=5):\n",
    "        super(MLP, self).__init__()\n",
    "        \n",
    "        # First two linear layers\n",
    "        self.linear1 = nn.Sequential(\n",
    "            nn.Linear(input_size, 256),\n",
    "            nn.ReLU()\n",
    "        )\n",
    "        self.linear2 = nn.Sequential(\n",
    "            nn.Linear(256, 256),\n",
    "            nn.ReLU()\n",
    "        )\n",
    "        \n",
    "        # Layers with normalization\n",
    "        self.norm3 = nn.BatchNorm1d(256)\n",
    "        self.linear3 = nn.Sequential(\n",
    "            nn.Linear(256, 256),\n",
    "            nn.ReLU()\n",
    "        )\n",
    "        \n",
    "        self.norm4 = nn.BatchNorm1d(256)\n",
    "        self.linear4 = nn.Sequential(\n",
    "            nn.Linear(256, 256),\n",
    "            nn.ReLU()\n",
    "        )\n",
    "        \n",
    "        self.norm5 = nn.BatchNorm1d(256)\n",
    "        self.linear5 = nn.Sequential(\n",
    "            nn.Linear(256, 256),\n",
    "            nn.ReLU()\n",
    "        )\n",
    "        \n",
    "        # Final output layer\n",
    "        self.linear6 = nn.Linear(256, output_size)\n",
    "        \n",
    "    def forward(self, x):\n",
    "        x1 = self.linear1(x)\n",
    "        x2 = self.linear2(x1)\n",
    "        x3 = self.linear3(self.norm3(x2))\n",
    "        x4 = self.linear4(self.norm4(x3))\n",
    "        x5 = self.linear5(self.norm5(x4))\n",
    "        z = self.linear6(x5)\n",
    "        return z"
   ]
  },
  {
   "cell_type": "code",
   "execution_count": 3,
   "metadata": {},
   "outputs": [
    {
     "name": "stdout",
     "output_type": "stream",
     "text": [
      "torch.Size([32, 5])\n"
     ]
    }
   ],
   "source": [
    "# Debugging\n",
    "model = MLP()\n",
    "x = torch.randn(32, 187)\n",
    "output = model(x)\n",
    "print(output.shape)"
   ]
  }
 ],
 "metadata": {
  "kernelspec": {
   "display_name": "base",
   "language": "python",
   "name": "python3"
  },
  "language_info": {
   "codemirror_mode": {
    "name": "ipython",
    "version": 3
   },
   "file_extension": ".py",
   "mimetype": "text/x-python",
   "name": "python",
   "nbconvert_exporter": "python",
   "pygments_lexer": "ipython3",
   "version": "3.12.4"
  }
 },
 "nbformat": 4,
 "nbformat_minor": 2
}
